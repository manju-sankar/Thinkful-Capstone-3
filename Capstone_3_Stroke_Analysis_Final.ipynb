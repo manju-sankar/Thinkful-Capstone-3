{
  "nbformat": 4,
  "nbformat_minor": 0,
  "metadata": {
    "colab": {
      "name": "Capstone_3_Stroke_Analysis_Final.ipynb",
      "provenance": [],
      "collapsed_sections": [],
      "include_colab_link": true
    },
    "kernelspec": {
      "name": "python3",
      "display_name": "Python 3"
    },
    "language_info": {
      "name": "python"
    }
  },
  "cells": [
    {
      "cell_type": "markdown",
      "metadata": {
        "id": "view-in-github",
        "colab_type": "text"
      },
      "source": [
        "<a href=\"https://colab.research.google.com/github/manju-sankar/Thinkful-Capstone-3/blob/main/Capstone_3_Stroke_Analysis_Final.ipynb\" target=\"_parent\"><img src=\"https://colab.research.google.com/assets/colab-badge.svg\" alt=\"Open In Colab\"/></a>"
      ]
    },
    {
      "cell_type": "markdown",
      "metadata": {
        "id": "cOSq-Pa11mLV"
      },
      "source": [
        "# Stroke Analysis Prediction\n",
        "\n",
        "**OVERVIEW**\n",
        "\n",
        "Data collected from: https://www.kaggle.com/fedesoriano/stroke-prediction-dataset\n",
        "The data consists of  5110 observations and 12 attributes. This dataset is used to predict whether a patient is likely to get stroke based on the various parameters like age, gender, obesity, glucose levels, heart conditions, marriage and smoking status. Each row in the data provides relevant information about the patient.\n",
        "\n",
        "GOALS\n",
        "1.\tLook at the relationship between gender, age, various diseases, and smoking status.\n",
        "2.\tHow do these factors affect people? Are they the correct predictors of a stroke in a person?\n",
        "\n",
        "\n",
        "Data Features\n",
        "\n",
        "1.\tid: Identification number of the individual.\n",
        "2.\tgender: Gender of the individual.\n",
        "3.\thypertension: 0 if the patient doesn't have hypertension, 1 if the patient has hypertension.\n",
        "4.\theart_disease: 0 if the patient doesn't have any heart diseases, 1 if the patient has a heart diseaseever_married: Personal information, is person married on not?\n",
        "5.\twork_type: Nature of work place.\n",
        "6.\tResidence_type: Residence type of the individual.\n",
        "7.\tavg_glucose_level: Average glucose level in blood for the individual.\n",
        "8.\tbmi: Body Mass Index of the individual.\n",
        "9.\tsmoking_status: Current smoking status of individual.\n",
        "10.\tstroke: 1 if the patient had a stroke or 0 if not\n"
      ]
    },
    {
      "cell_type": "markdown",
      "metadata": {
        "id": "pXdNGG4S4hS1"
      },
      "source": [
        "\n",
        "\n",
        "------\n",
        "\n",
        "\n",
        "\n",
        "\n",
        "\n"
      ]
    },
    {
      "cell_type": "markdown",
      "metadata": {
        "id": "cog6ld3p4R6H"
      },
      "source": [
        "# Importing the libraries\n",
        "\n",
        "\n",
        "\n",
        "\n"
      ]
    },
    {
      "cell_type": "code",
      "metadata": {
        "id": "AFDP7b140rUK"
      },
      "source": [
        "import numpy as np\n",
        "import pandas as pd\n",
        "from scipy import stats\n",
        "\n",
        "# Matplotlib for additional customization\n",
        "import matplotlib\n",
        "import matplotlib.pyplot as plt\n",
        "%matplotlib inline\n",
        "import seaborn as sns \n",
        "sns.set()\n",
        "\n",
        "# supporessing warnings\n",
        "import warnings\n",
        "warnings.filterwarnings(\"ignore\")"
      ],
      "execution_count": null,
      "outputs": []
    },
    {
      "cell_type": "code",
      "metadata": {
        "colab": {
          "base_uri": "https://localhost:8080/"
        },
        "id": "A8YQGDC4URFi",
        "outputId": "b374bf84-db34-4a1c-cc77-c44ce3766dd5"
      },
      "source": [
        "# connecting google drive and google colab\n",
        "from google.colab import drive\n",
        "drive.mount('/content/drive')"
      ],
      "execution_count": null,
      "outputs": [
        {
          "output_type": "stream",
          "text": [
            "Drive already mounted at /content/drive; to attempt to forcibly remount, call drive.mount(\"/content/drive\", force_remount=True).\n"
          ],
          "name": "stdout"
        }
      ]
    },
    {
      "cell_type": "markdown",
      "metadata": {
        "id": "3awapSctRaqW"
      },
      "source": [
        "\n",
        "\n",
        "\n",
        "\n",
        "---\n",
        "\n",
        "\n",
        "\n"
      ]
    },
    {
      "cell_type": "markdown",
      "metadata": {
        "id": "pY5tNu7oWNQv"
      },
      "source": [
        "## DataFrame Creation and Exploration\n",
        "\n",
        "\n"
      ]
    },
    {
      "cell_type": "code",
      "metadata": {
        "id": "vzNdNfJ5UzEB"
      },
      "source": [
        "# creating DataFrame\n",
        "stroke_df = pd.read_csv('/content/drive/MyDrive/Thinkful/Capstone/Capstone-Manju/Capstone 3/healthcare-dataset-stroke-data.csv')"
      ],
      "execution_count": null,
      "outputs": []
    },
    {
      "cell_type": "code",
      "metadata": {
        "colab": {
          "base_uri": "https://localhost:8080/"
        },
        "id": "yRgmxWMZb3bR",
        "outputId": "e95b7b2a-e7a6-402d-da15-b2f1a9f3a78f"
      },
      "source": [
        "#get the size of dataframe\n",
        "stroke_df.shape"
      ],
      "execution_count": null,
      "outputs": [
        {
          "output_type": "execute_result",
          "data": {
            "text/plain": [
              "(5110, 12)"
            ]
          },
          "metadata": {
            "tags": []
          },
          "execution_count": 5
        }
      ]
    },
    {
      "cell_type": "code",
      "metadata": {
        "colab": {
          "base_uri": "https://localhost:8080/"
        },
        "id": "6xuejxTVWqrD",
        "outputId": "1dc797cb-e5ee-4e3f-e821-8800b31b2af5"
      },
      "source": [
        "# Info about the dataset\n",
        "stroke_df.info()"
      ],
      "execution_count": null,
      "outputs": [
        {
          "output_type": "stream",
          "text": [
            "<class 'pandas.core.frame.DataFrame'>\n",
            "RangeIndex: 5110 entries, 0 to 5109\n",
            "Data columns (total 12 columns):\n",
            " #   Column             Non-Null Count  Dtype  \n",
            "---  ------             --------------  -----  \n",
            " 0   id                 5110 non-null   int64  \n",
            " 1   gender             5110 non-null   object \n",
            " 2   age                5110 non-null   float64\n",
            " 3   hypertension       5110 non-null   int64  \n",
            " 4   heart_disease      5110 non-null   int64  \n",
            " 5   ever_married       5110 non-null   object \n",
            " 6   work_type          5110 non-null   object \n",
            " 7   Residence_type     5110 non-null   object \n",
            " 8   avg_glucose_level  5110 non-null   float64\n",
            " 9   bmi                4909 non-null   float64\n",
            " 10  smoking_status     5110 non-null   object \n",
            " 11  stroke             5110 non-null   int64  \n",
            "dtypes: float64(3), int64(4), object(5)\n",
            "memory usage: 479.2+ KB\n"
          ],
          "name": "stdout"
        }
      ]
    },
    {
      "cell_type": "code",
      "metadata": {
        "colab": {
          "base_uri": "https://localhost:8080/"
        },
        "id": "LX1Y7OP3LhGO",
        "outputId": "7be3f357-3d75-4cdc-8efe-ce4499fd0df8"
      },
      "source": [
        "# Checking for any duplicate rows\n",
        "stroke_df.duplicated().sum()"
      ],
      "execution_count": null,
      "outputs": [
        {
          "output_type": "execute_result",
          "data": {
            "text/plain": [
              "0"
            ]
          },
          "metadata": {
            "tags": []
          },
          "execution_count": 7
        }
      ]
    },
    {
      "cell_type": "code",
      "metadata": {
        "colab": {
          "base_uri": "https://localhost:8080/"
        },
        "id": "vzPJ2NcsYIyL",
        "outputId": "7c64283d-cfdd-480c-b646-cd2e0f640c45"
      },
      "source": [
        "#Checking for null values\n",
        "stroke_df.isnull().sum()"
      ],
      "execution_count": null,
      "outputs": [
        {
          "output_type": "execute_result",
          "data": {
            "text/plain": [
              "id                     0\n",
              "gender                 0\n",
              "age                    0\n",
              "hypertension           0\n",
              "heart_disease          0\n",
              "ever_married           0\n",
              "work_type              0\n",
              "Residence_type         0\n",
              "avg_glucose_level      0\n",
              "bmi                  201\n",
              "smoking_status         0\n",
              "stroke                 0\n",
              "dtype: int64"
            ]
          },
          "metadata": {
            "tags": []
          },
          "execution_count": 8
        }
      ]
    },
    {
      "cell_type": "markdown",
      "metadata": {
        "id": "2MIoaN63cLQV"
      },
      "source": [
        "Only BMI has some missing values"
      ]
    },
    {
      "cell_type": "code",
      "metadata": {
        "colab": {
          "base_uri": "https://localhost:8080/",
          "height": 204
        },
        "id": "_LycGq69Ysqf",
        "outputId": "452a17a0-b3ce-4f9b-eaae-57c35dc4ba50"
      },
      "source": [
        "\n",
        "# Checking the first 5 rows\n",
        "stroke_df.head(5)"
      ],
      "execution_count": null,
      "outputs": [
        {
          "output_type": "execute_result",
          "data": {
            "text/html": [
              "<div>\n",
              "<style scoped>\n",
              "    .dataframe tbody tr th:only-of-type {\n",
              "        vertical-align: middle;\n",
              "    }\n",
              "\n",
              "    .dataframe tbody tr th {\n",
              "        vertical-align: top;\n",
              "    }\n",
              "\n",
              "    .dataframe thead th {\n",
              "        text-align: right;\n",
              "    }\n",
              "</style>\n",
              "<table border=\"1\" class=\"dataframe\">\n",
              "  <thead>\n",
              "    <tr style=\"text-align: right;\">\n",
              "      <th></th>\n",
              "      <th>id</th>\n",
              "      <th>gender</th>\n",
              "      <th>age</th>\n",
              "      <th>hypertension</th>\n",
              "      <th>heart_disease</th>\n",
              "      <th>ever_married</th>\n",
              "      <th>work_type</th>\n",
              "      <th>Residence_type</th>\n",
              "      <th>avg_glucose_level</th>\n",
              "      <th>bmi</th>\n",
              "      <th>smoking_status</th>\n",
              "      <th>stroke</th>\n",
              "    </tr>\n",
              "  </thead>\n",
              "  <tbody>\n",
              "    <tr>\n",
              "      <th>0</th>\n",
              "      <td>9046</td>\n",
              "      <td>Male</td>\n",
              "      <td>67.0</td>\n",
              "      <td>0</td>\n",
              "      <td>1</td>\n",
              "      <td>Yes</td>\n",
              "      <td>Private</td>\n",
              "      <td>Urban</td>\n",
              "      <td>228.69</td>\n",
              "      <td>36.6</td>\n",
              "      <td>formerly smoked</td>\n",
              "      <td>1</td>\n",
              "    </tr>\n",
              "    <tr>\n",
              "      <th>1</th>\n",
              "      <td>51676</td>\n",
              "      <td>Female</td>\n",
              "      <td>61.0</td>\n",
              "      <td>0</td>\n",
              "      <td>0</td>\n",
              "      <td>Yes</td>\n",
              "      <td>Self-employed</td>\n",
              "      <td>Rural</td>\n",
              "      <td>202.21</td>\n",
              "      <td>NaN</td>\n",
              "      <td>never smoked</td>\n",
              "      <td>1</td>\n",
              "    </tr>\n",
              "    <tr>\n",
              "      <th>2</th>\n",
              "      <td>31112</td>\n",
              "      <td>Male</td>\n",
              "      <td>80.0</td>\n",
              "      <td>0</td>\n",
              "      <td>1</td>\n",
              "      <td>Yes</td>\n",
              "      <td>Private</td>\n",
              "      <td>Rural</td>\n",
              "      <td>105.92</td>\n",
              "      <td>32.5</td>\n",
              "      <td>never smoked</td>\n",
              "      <td>1</td>\n",
              "    </tr>\n",
              "    <tr>\n",
              "      <th>3</th>\n",
              "      <td>60182</td>\n",
              "      <td>Female</td>\n",
              "      <td>49.0</td>\n",
              "      <td>0</td>\n",
              "      <td>0</td>\n",
              "      <td>Yes</td>\n",
              "      <td>Private</td>\n",
              "      <td>Urban</td>\n",
              "      <td>171.23</td>\n",
              "      <td>34.4</td>\n",
              "      <td>smokes</td>\n",
              "      <td>1</td>\n",
              "    </tr>\n",
              "    <tr>\n",
              "      <th>4</th>\n",
              "      <td>1665</td>\n",
              "      <td>Female</td>\n",
              "      <td>79.0</td>\n",
              "      <td>1</td>\n",
              "      <td>0</td>\n",
              "      <td>Yes</td>\n",
              "      <td>Self-employed</td>\n",
              "      <td>Rural</td>\n",
              "      <td>174.12</td>\n",
              "      <td>24.0</td>\n",
              "      <td>never smoked</td>\n",
              "      <td>1</td>\n",
              "    </tr>\n",
              "  </tbody>\n",
              "</table>\n",
              "</div>"
            ],
            "text/plain": [
              "      id  gender   age  ...   bmi   smoking_status stroke\n",
              "0   9046    Male  67.0  ...  36.6  formerly smoked      1\n",
              "1  51676  Female  61.0  ...   NaN     never smoked      1\n",
              "2  31112    Male  80.0  ...  32.5     never smoked      1\n",
              "3  60182  Female  49.0  ...  34.4           smokes      1\n",
              "4   1665  Female  79.0  ...  24.0     never smoked      1\n",
              "\n",
              "[5 rows x 12 columns]"
            ]
          },
          "metadata": {
            "tags": []
          },
          "execution_count": 9
        }
      ]
    },
    {
      "cell_type": "markdown",
      "metadata": {
        "id": "fgqXthgPbXp0"
      },
      "source": [
        "## Data Cleaning"
      ]
    },
    {
      "cell_type": "code",
      "metadata": {
        "id": "sjrR5Kh5bacs"
      },
      "source": [
        "# Replacing the null values of BMI with an aggregated value\n",
        "stroke_df['bmi'].fillna(stroke_df['bmi'].mean(),inplace = True)\n"
      ],
      "execution_count": null,
      "outputs": []
    },
    {
      "cell_type": "code",
      "metadata": {
        "colab": {
          "base_uri": "https://localhost:8080/"
        },
        "id": "pLF63G3f7fPO",
        "outputId": "84796587-ae39-46c8-9228-6e1d18708109"
      },
      "source": [
        "stroke_df['gender'].value_counts()"
      ],
      "execution_count": null,
      "outputs": [
        {
          "output_type": "execute_result",
          "data": {
            "text/plain": [
              "Female    2994\n",
              "Male      2115\n",
              "Other        1\n",
              "Name: gender, dtype: int64"
            ]
          },
          "metadata": {
            "tags": []
          },
          "execution_count": 11
        }
      ]
    },
    {
      "cell_type": "markdown",
      "metadata": {
        "id": "Y1Ue1baq7tPQ"
      },
      "source": [
        " Since there is only one 'Other' Category, we can drop it."
      ]
    },
    {
      "cell_type": "code",
      "metadata": {
        "colab": {
          "base_uri": "https://localhost:8080/"
        },
        "id": "Y4jrCrru72ym",
        "outputId": "ea8a3fd9-eff0-4448-9b88-8f85a365a503"
      },
      "source": [
        "stroke_df.drop(stroke_df[stroke_df['gender']== 'Other'].index, inplace= True)\n",
        "stroke_df['gender'].nunique()"
      ],
      "execution_count": null,
      "outputs": [
        {
          "output_type": "execute_result",
          "data": {
            "text/plain": [
              "2"
            ]
          },
          "metadata": {
            "tags": []
          },
          "execution_count": 12
        }
      ]
    },
    {
      "cell_type": "markdown",
      "metadata": {
        "id": "MPjf9lWt3i6W"
      },
      "source": [
        "# Visualisations"
      ]
    },
    {
      "cell_type": "code",
      "metadata": {
        "colab": {
          "base_uri": "https://localhost:8080/",
          "height": 316
        },
        "id": "ImKyM-_288vX",
        "outputId": "e40edefa-841b-4cfc-fe86-9fc69596a171"
      },
      "source": [
        "print(stroke_df.stroke.value_counts())\n",
        "stroke_df['stroke'].value_counts().plot(kind='pie', autopct='%.2f')"
      ],
      "execution_count": null,
      "outputs": [
        {
          "output_type": "stream",
          "text": [
            "0    4860\n",
            "1     249\n",
            "Name: stroke, dtype: int64\n"
          ],
          "name": "stdout"
        },
        {
          "output_type": "execute_result",
          "data": {
            "text/plain": [
              "<matplotlib.axes._subplots.AxesSubplot at 0x7fbd33cdfc50>"
            ]
          },
          "metadata": {
            "tags": []
          },
          "execution_count": 13
        },
        {
          "output_type": "display_data",
          "data": {
            "image/png": "[encoded data removed]",
            "text/plain": [
              "<Figure size 432x288 with 1 Axes>"
            ]
          },
          "metadata": {
            "tags": []
          }
        }
      ]
    },
    {
      "cell_type": "markdown",
      "metadata": {
        "id": "xLqFFABl3mql"
      },
      "source": [
        "\n",
        "We are clearly dealing with an imbalanced dataset where only 4.87% of the sample population have strokes and 95.13% have no stroke. "
      ]
    },
    {
      "cell_type": "code",
      "metadata": {
        "colab": {
          "base_uri": "https://localhost:8080/",
          "height": 285
        },
        "id": "QXjzmqru4HfZ",
        "outputId": "44f01c71-c080-4a53-85e4-c21e7df60e6b"
      },
      "source": [
        "sns.kdeplot(data = stroke_df[stroke_df['stroke']==0], x = \"age\", shade = None, label = \"No Stroke\")\n",
        "sns.kdeplot(data = stroke_df[stroke_df['stroke']==1], x = \"age\", shade = None, label = \"Stroke\")\n",
        "plt.legend()\n",
        "plt.show()"
      ],
      "execution_count": null,
      "outputs": [
        {
          "output_type": "display_data",
          "data": {
            "image/png": "[encoded data removed]",
            "text/plain": [
              "<Figure size 432x288 with 1 Axes>"
            ]
          },
          "metadata": {
            "tags": []
          }
        }
      ]
    },
    {
      "cell_type": "markdown",
      "metadata": {
        "id": "_Fm31wZy4P4c"
      },
      "source": [
        "\n",
        "*   Patients above 40 years of age are more prone to a stroke.\n",
        "*   Chances of getting a stroke is slim to none for patients 25 years and less."
      ]
    },
    {
      "cell_type": "code",
      "metadata": {
        "colab": {
          "base_uri": "https://localhost:8080/",
          "height": 433
        },
        "id": "wtsP31LUvZxc",
        "outputId": "e2f7c149-a2f5-4f1c-97f7-89a9abc9096e"
      },
      "source": [
        "print(stroke_df.gender.value_counts())\n",
        "sns.displot(x = 'age', hue = 'gender', data= stroke_df)"
      ],
      "execution_count": null,
      "outputs": [
        {
          "output_type": "stream",
          "text": [
            "Female    2994\n",
            "Male      2115\n",
            "Name: gender, dtype: int64\n"
          ],
          "name": "stdout"
        },
        {
          "output_type": "execute_result",
          "data": {
            "text/plain": [
              "<seaborn.axisgrid.FacetGrid at 0x7fbd32531f90>"
            ]
          },
          "metadata": {
            "tags": []
          },
          "execution_count": 15
        },
        {
          "output_type": "display_data",
          "data": {
            "image/png": "[encoded data removed]",
            "text/plain": [
              "<Figure size 439.725x360 with 1 Axes>"
            ]
          },
          "metadata": {
            "tags": []
          }
        }
      ]
    },
    {
      "cell_type": "markdown",
      "metadata": {
        "id": "4Jgb4zifJScf"
      },
      "source": [
        "### Observation:\n",
        "\n",
        "There are clearly more females than males in the dataset."
      ]
    },
    {
      "cell_type": "code",
      "metadata": {
        "colab": {
          "base_uri": "https://localhost:8080/",
          "height": 382
        },
        "id": "tFHuLB4tIak5",
        "outputId": "8d19ef6a-efaa-4f19-943c-22734a2d43d5"
      },
      "source": [
        "have_stroke = stroke_df[stroke_df['stroke']==1]\n",
        "plt.figure(figsize= (11,8))\n",
        "sns.displot(x = \"age\", kind = 'ecdf', hue = \"gender\", data = have_stroke)\n",
        "plt.grid(True)\n",
        "plt.show()"
      ],
      "execution_count": null,
      "outputs": [
        {
          "output_type": "display_data",
          "data": {
            "text/plain": [
              "<Figure size 792x576 with 0 Axes>"
            ]
          },
          "metadata": {
            "tags": []
          }
        },
        {
          "output_type": "display_data",
          "data": {
            "image/png": "[encoded data removed]",
            "text/plain": [
              "<Figure size 439.725x360 with 1 Axes>"
            ]
          },
          "metadata": {
            "tags": []
          }
        }
      ]
    },
    {
      "cell_type": "markdown",
      "metadata": {
        "id": "Rhd-qGDpH7hJ"
      },
      "source": [
        "### Observation:\n",
        "\n",
        "Both male and female have an equal chance of getting a stroke but males between 60 and 80 years of age have a slightly higher chance of having a stroke when compared to females."
      ]
    },
    {
      "cell_type": "code",
      "metadata": {
        "colab": {
          "base_uri": "https://localhost:8080/",
          "height": 353
        },
        "id": "vYDQNUAG7Md4",
        "outputId": "248d6c71-3a27-4747-9e73-f7a9c616b78e"
      },
      "source": [
        "print(have_stroke.ever_married.value_counts())\n",
        "sns.countplot(have_stroke.ever_married)"
      ],
      "execution_count": null,
      "outputs": [
        {
          "output_type": "stream",
          "text": [
            "Yes    220\n",
            "No      29\n",
            "Name: ever_married, dtype: int64\n"
          ],
          "name": "stdout"
        },
        {
          "output_type": "execute_result",
          "data": {
            "text/plain": [
              "<matplotlib.axes._subplots.AxesSubplot at 0x7fbd27bc5b10>"
            ]
          },
          "metadata": {
            "tags": []
          },
          "execution_count": 17
        },
        {
          "output_type": "display_data",
          "data": {
            "image/png": "[encoded data removed]",
            "text/plain": [
              "<Figure size 432x288 with 1 Axes>"
            ]
          },
          "metadata": {
            "tags": []
          }
        }
      ]
    },
    {
      "cell_type": "code",
      "metadata": {
        "colab": {
          "base_uri": "https://localhost:8080/",
          "height": 388
        },
        "id": "3HK3b2QmDiCC",
        "outputId": "a4ca9a18-62d8-43ba-a040-d7ff82128443"
      },
      "source": [
        "print(have_stroke.work_type.value_counts())\n",
        "sns.countplot(have_stroke.work_type)"
      ],
      "execution_count": null,
      "outputs": [
        {
          "output_type": "stream",
          "text": [
            "Private          149\n",
            "Self-employed     65\n",
            "Govt_job          33\n",
            "children           2\n",
            "Name: work_type, dtype: int64\n"
          ],
          "name": "stdout"
        },
        {
          "output_type": "execute_result",
          "data": {
            "text/plain": [
              "<matplotlib.axes._subplots.AxesSubplot at 0x7fbd27b633d0>"
            ]
          },
          "metadata": {
            "tags": []
          },
          "execution_count": 18
        },
        {
          "output_type": "display_data",
          "data": {
            "image/png": "[encoded data removed]",
            "text/plain": [
              "<Figure size 432x288 with 1 Axes>"
            ]
          },
          "metadata": {
            "tags": []
          }
        }
      ]
    },
    {
      "cell_type": "code",
      "metadata": {
        "colab": {
          "base_uri": "https://localhost:8080/",
          "height": 354
        },
        "id": "kmATWTL0Dsom",
        "outputId": "85d9982e-879b-4dbd-aa5b-9e3cbd9d62dc"
      },
      "source": [
        "print(have_stroke.Residence_type.value_counts())\n",
        "sns.countplot(have_stroke.Residence_type)"
      ],
      "execution_count": null,
      "outputs": [
        {
          "output_type": "stream",
          "text": [
            "Urban    135\n",
            "Rural    114\n",
            "Name: Residence_type, dtype: int64\n"
          ],
          "name": "stdout"
        },
        {
          "output_type": "execute_result",
          "data": {
            "text/plain": [
              "<matplotlib.axes._subplots.AxesSubplot at 0x7fbd27b78390>"
            ]
          },
          "metadata": {
            "tags": []
          },
          "execution_count": 19
        },
        {
          "output_type": "display_data",
          "data": {
            "image/png": "[encoded data removed]",
            "text/plain": [
              "<Figure size 432x288 with 1 Axes>"
            ]
          },
          "metadata": {
            "tags": []
          }
        }
      ]
    },
    {
      "cell_type": "code",
      "metadata": {
        "colab": {
          "base_uri": "https://localhost:8080/",
          "height": 387
        },
        "id": "Db7lUTBsD8si",
        "outputId": "f1fe78b9-50da-4410-a87e-c03565edebd6"
      },
      "source": [
        "print(have_stroke.smoking_status.value_counts())\n",
        "sns.countplot(have_stroke.smoking_status)"
      ],
      "execution_count": null,
      "outputs": [
        {
          "output_type": "stream",
          "text": [
            "never smoked       90\n",
            "formerly smoked    70\n",
            "Unknown            47\n",
            "smokes             42\n",
            "Name: smoking_status, dtype: int64\n"
          ],
          "name": "stdout"
        },
        {
          "output_type": "execute_result",
          "data": {
            "text/plain": [
              "<matplotlib.axes._subplots.AxesSubplot at 0x7fbd27abf790>"
            ]
          },
          "metadata": {
            "tags": []
          },
          "execution_count": 20
        },
        {
          "output_type": "display_data",
          "data": {
            "image/png": "[encoded data removed]",
            "text/plain": [
              "<Figure size 432x288 with 1 Axes>"
            ]
          },
          "metadata": {
            "tags": []
          }
        }
      ]
    },
    {
      "cell_type": "markdown",
      "metadata": {
        "id": "CY1mJAeCER9P"
      },
      "source": [
        "\n",
        "### Observations\n",
        "\n",
        "According to the dataset: \n",
        "\n",
        "\n",
        "*   People who are married are prone to a stroke than people who are not.\n",
        "*   People working in Private sector and self employed have higher chances of stroke.\n",
        "*   People living in Urban areas are more prone to a stroke than people in rural areas.\n",
        "*   People who have formerly smoked and are smoking have a high chance of getting a stroke. But according to this particular dataset, people who have never smoked have the highest chance of a stroke which is questionable. It might be due to fact that the dataset is highly imbalanced.\n",
        "\n",
        "\n",
        "\n",
        "\n",
        "\n",
        "\n",
        "\n",
        "\n"
      ]
    },
    {
      "cell_type": "markdown",
      "metadata": {
        "id": "IqOfRcvANT9u"
      },
      "source": [
        "## Descriptive Statistics"
      ]
    },
    {
      "cell_type": "code",
      "metadata": {
        "colab": {
          "base_uri": "https://localhost:8080/",
          "height": 266
        },
        "id": "D3NFXM8qY23t",
        "outputId": "39db572c-0a2e-4cbc-b4db-97d0aa3aeba1"
      },
      "source": [
        "stroke_df.describe().T"
      ],
      "execution_count": null,
      "outputs": [
        {
          "output_type": "execute_result",
          "data": {
            "text/html": [
              "<div>\n",
              "<style scoped>\n",
              "    .dataframe tbody tr th:only-of-type {\n",
              "        vertical-align: middle;\n",
              "    }\n",
              "\n",
              "    .dataframe tbody tr th {\n",
              "        vertical-align: top;\n",
              "    }\n",
              "\n",
              "    .dataframe thead th {\n",
              "        text-align: right;\n",
              "    }\n",
              "</style>\n",
              "<table border=\"1\" class=\"dataframe\">\n",
              "  <thead>\n",
              "    <tr style=\"text-align: right;\">\n",
              "      <th></th>\n",
              "      <th>count</th>\n",
              "      <th>mean</th>\n",
              "      <th>std</th>\n",
              "      <th>min</th>\n",
              "      <th>25%</th>\n",
              "      <th>50%</th>\n",
              "      <th>75%</th>\n",
              "      <th>max</th>\n",
              "    </tr>\n",
              "  </thead>\n",
              "  <tbody>\n",
              "    <tr>\n",
              "      <th>id</th>\n",
              "      <td>5109.0</td>\n",
              "      <td>36513.985516</td>\n",
              "      <td>21162.008804</td>\n",
              "      <td>67.00</td>\n",
              "      <td>17740.00</td>\n",
              "      <td>36922.00</td>\n",
              "      <td>54643.00</td>\n",
              "      <td>72940.00</td>\n",
              "    </tr>\n",
              "    <tr>\n",
              "      <th>age</th>\n",
              "      <td>5109.0</td>\n",
              "      <td>43.229986</td>\n",
              "      <td>22.613575</td>\n",
              "      <td>0.08</td>\n",
              "      <td>25.00</td>\n",
              "      <td>45.00</td>\n",
              "      <td>61.00</td>\n",
              "      <td>82.00</td>\n",
              "    </tr>\n",
              "    <tr>\n",
              "      <th>hypertension</th>\n",
              "      <td>5109.0</td>\n",
              "      <td>0.097475</td>\n",
              "      <td>0.296633</td>\n",
              "      <td>0.00</td>\n",
              "      <td>0.00</td>\n",
              "      <td>0.00</td>\n",
              "      <td>0.00</td>\n",
              "      <td>1.00</td>\n",
              "    </tr>\n",
              "    <tr>\n",
              "      <th>heart_disease</th>\n",
              "      <td>5109.0</td>\n",
              "      <td>0.054022</td>\n",
              "      <td>0.226084</td>\n",
              "      <td>0.00</td>\n",
              "      <td>0.00</td>\n",
              "      <td>0.00</td>\n",
              "      <td>0.00</td>\n",
              "      <td>1.00</td>\n",
              "    </tr>\n",
              "    <tr>\n",
              "      <th>avg_glucose_level</th>\n",
              "      <td>5109.0</td>\n",
              "      <td>106.140399</td>\n",
              "      <td>45.285004</td>\n",
              "      <td>55.12</td>\n",
              "      <td>77.24</td>\n",
              "      <td>91.88</td>\n",
              "      <td>114.09</td>\n",
              "      <td>271.74</td>\n",
              "    </tr>\n",
              "    <tr>\n",
              "      <th>bmi</th>\n",
              "      <td>5109.0</td>\n",
              "      <td>28.894508</td>\n",
              "      <td>7.698235</td>\n",
              "      <td>10.30</td>\n",
              "      <td>23.80</td>\n",
              "      <td>28.40</td>\n",
              "      <td>32.80</td>\n",
              "      <td>97.60</td>\n",
              "    </tr>\n",
              "    <tr>\n",
              "      <th>stroke</th>\n",
              "      <td>5109.0</td>\n",
              "      <td>0.048738</td>\n",
              "      <td>0.215340</td>\n",
              "      <td>0.00</td>\n",
              "      <td>0.00</td>\n",
              "      <td>0.00</td>\n",
              "      <td>0.00</td>\n",
              "      <td>1.00</td>\n",
              "    </tr>\n",
              "  </tbody>\n",
              "</table>\n",
              "</div>"
            ],
            "text/plain": [
              "                    count          mean  ...       75%       max\n",
              "id                 5109.0  36513.985516  ...  54643.00  72940.00\n",
              "age                5109.0     43.229986  ...     61.00     82.00\n",
              "hypertension       5109.0      0.097475  ...      0.00      1.00\n",
              "heart_disease      5109.0      0.054022  ...      0.00      1.00\n",
              "avg_glucose_level  5109.0    106.140399  ...    114.09    271.74\n",
              "bmi                5109.0     28.894508  ...     32.80     97.60\n",
              "stroke             5109.0      0.048738  ...      0.00      1.00\n",
              "\n",
              "[7 rows x 8 columns]"
            ]
          },
          "metadata": {
            "tags": []
          },
          "execution_count": 21
        }
      ]
    },
    {
      "cell_type": "code",
      "metadata": {
        "colab": {
          "base_uri": "https://localhost:8080/"
        },
        "id": "NevDvYqZHUKl",
        "outputId": "a250f05a-da91-4b5f-8b77-cb18f2c4c239"
      },
      "source": [
        "#Statistical significance of correlations\n",
        "stats.pearsonr(stroke_df['bmi'], stroke_df['age'])"
      ],
      "execution_count": null,
      "outputs": [
        {
          "output_type": "execute_result",
          "data": {
            "text/plain": [
              "(0.32585787906380626, 1.1142394671230584e-126)"
            ]
          },
          "metadata": {
            "tags": []
          },
          "execution_count": 22
        }
      ]
    },
    {
      "cell_type": "code",
      "metadata": {
        "colab": {
          "base_uri": "https://localhost:8080/"
        },
        "id": "rDgDAaH5HOgN",
        "outputId": "594ac873-3d63-4424-e004-7d00a7e0e354"
      },
      "source": [
        "stats.pearsonr(stroke_df['avg_glucose_level'], stroke_df['bmi'])"
      ],
      "execution_count": null,
      "outputs": [
        {
          "output_type": "execute_result",
          "data": {
            "text/plain": [
              "(0.16890985190584185, 5.220061918606438e-34)"
            ]
          },
          "metadata": {
            "tags": []
          },
          "execution_count": 23
        }
      ]
    },
    {
      "cell_type": "markdown",
      "metadata": {
        "id": "L7bettWjsJPm"
      },
      "source": [
        "# Hypotheses:\n",
        "\n",
        "\n",
        "1.  Is there is a significance difference in the age and BMI \n",
        "2.  Is there is a significance difference in the glucose levels and BMI \n",
        "3.\tPeople with high hypertension are more likely to have a stroke.\n",
        "4.  People with high heart condition are more likely to have a stroke.\n",
        "\n",
        "\n"
      ]
    },
    {
      "cell_type": "markdown",
      "metadata": {
        "id": "1Yi-36MvsMjf"
      },
      "source": [
        "### Hypotheses 1: "
      ]
    },
    {
      "cell_type": "markdown",
      "metadata": {
        "id": "cBmB195Gkxrb"
      },
      "source": [
        "In this t-test, we are examining the difference between two population means based on their respective samples. More specifically, we will check for a statistically significant difference between the two groups.\n",
        "\n",
        "The null and alternative hypotheses are as follows:\n",
        "\n",
        "H₀: µ₁ = µ₂\n",
        "( The mean BMI for those age greater than 45 is equal to the mean BMI for those less than 45.)\n",
        "\n",
        "Hₐ: µ₁ ≠ µ₂\n",
        "(The mean BMI for those age greater than 45 is not equal to the mean BMI for those less than 45.)\n",
        "\n",
        "Where µ₁ is the sample mean of the first group, and µ₂ is the sample mean of the second group."
      ]
    },
    {
      "cell_type": "code",
      "metadata": {
        "colab": {
          "base_uri": "https://localhost:8080/"
        },
        "id": "oqZmaSXhssXD",
        "outputId": "9b91b042-d6f7-4718-8982-c0da8820174e"
      },
      "source": [
        "age_g45 = stroke_df[(stroke_df['age'] >= 45).values]\n",
        "age_g45.info()"
      ],
      "execution_count": null,
      "outputs": [
        {
          "output_type": "stream",
          "text": [
            "<class 'pandas.core.frame.DataFrame'>\n",
            "Int64Index: 2577 entries, 0 to 5108\n",
            "Data columns (total 12 columns):\n",
            " #   Column             Non-Null Count  Dtype  \n",
            "---  ------             --------------  -----  \n",
            " 0   id                 2577 non-null   int64  \n",
            " 1   gender             2577 non-null   object \n",
            " 2   age                2577 non-null   float64\n",
            " 3   hypertension       2577 non-null   int64  \n",
            " 4   heart_disease      2577 non-null   int64  \n",
            " 5   ever_married       2577 non-null   object \n",
            " 6   work_type          2577 non-null   object \n",
            " 7   Residence_type     2577 non-null   object \n",
            " 8   avg_glucose_level  2577 non-null   float64\n",
            " 9   bmi                2577 non-null   float64\n",
            " 10  smoking_status     2577 non-null   object \n",
            " 11  stroke             2577 non-null   int64  \n",
            "dtypes: float64(3), int64(4), object(5)\n",
            "memory usage: 261.7+ KB\n"
          ],
          "name": "stdout"
        }
      ]
    },
    {
      "cell_type": "code",
      "metadata": {
        "colab": {
          "base_uri": "https://localhost:8080/"
        },
        "id": "ClAjcrOrEOPp",
        "outputId": "9b1c2b79-2b3a-4c31-db6a-4547961856ab"
      },
      "source": [
        "age_l45 = stroke_df[(stroke_df['age'] < 45).values]\n",
        "age_l45.info()"
      ],
      "execution_count": null,
      "outputs": [
        {
          "output_type": "stream",
          "text": [
            "<class 'pandas.core.frame.DataFrame'>\n",
            "Int64Index: 2532 entries, 31 to 5109\n",
            "Data columns (total 12 columns):\n",
            " #   Column             Non-Null Count  Dtype  \n",
            "---  ------             --------------  -----  \n",
            " 0   id                 2532 non-null   int64  \n",
            " 1   gender             2532 non-null   object \n",
            " 2   age                2532 non-null   float64\n",
            " 3   hypertension       2532 non-null   int64  \n",
            " 4   heart_disease      2532 non-null   int64  \n",
            " 5   ever_married       2532 non-null   object \n",
            " 6   work_type          2532 non-null   object \n",
            " 7   Residence_type     2532 non-null   object \n",
            " 8   avg_glucose_level  2532 non-null   float64\n",
            " 9   bmi                2532 non-null   float64\n",
            " 10  smoking_status     2532 non-null   object \n",
            " 11  stroke             2532 non-null   int64  \n",
            "dtypes: float64(3), int64(4), object(5)\n",
            "memory usage: 257.2+ KB\n"
          ],
          "name": "stdout"
        }
      ]
    },
    {
      "cell_type": "markdown",
      "metadata": {
        "id": "fqw5YpG5E2VL"
      },
      "source": [
        "We will be conducting a t-test to compare the means between the above 2 samples.  A low p-value means that it is unlikely to occur by random chance, meaning that you have a significant result. A high p-value means that it is likely that the result that you see is due to random chance—in which case you cannot make meaningful statements about the difference."
      ]
    },
    {
      "cell_type": "markdown",
      "metadata": {
        "id": "56Mf4U7P77vs"
      },
      "source": [
        "![image.png](data:image/png;base64,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)"
      ]
    },
    {
      "cell_type": "code",
      "metadata": {
        "colab": {
          "base_uri": "https://localhost:8080/"
        },
        "id": "3dYia3iSFNd-",
        "outputId": "7d31eefc-8add-4dc3-e6b5-c768a40db35f"
      },
      "source": [
        "stats.ttest_ind(age_g45['bmi'], age_l45['bmi'])"
      ],
      "execution_count": null,
      "outputs": [
        {
          "output_type": "execute_result",
          "data": {
            "text/plain": [
              "Ttest_indResult(statistic=17.210374912390794, pvalue=1.4276153587628098e-64)"
            ]
          },
          "metadata": {
            "tags": []
          },
          "execution_count": 26
        }
      ]
    },
    {
      "cell_type": "markdown",
      "metadata": {
        "id": "boI-2CuxGmoB"
      },
      "source": [
        "There is a difference of 17 standard deviations between these two means. The p-value is extremely small, implying that this is a real difference. Hence, there is a statistical difference between the ages and the bmi"
      ]
    },
    {
      "cell_type": "code",
      "metadata": {
        "colab": {
          "base_uri": "https://localhost:8080/",
          "height": 382
        },
        "id": "DE_urk89_8DX",
        "outputId": "b0a0eaa5-db42-44dd-fce9-44809f163691"
      },
      "source": [
        "sns.displot(x= 'bmi', kind ='kde', data = age_l45)\n"
      ],
      "execution_count": null,
      "outputs": [
        {
          "output_type": "execute_result",
          "data": {
            "text/plain": [
              "<seaborn.axisgrid.FacetGrid at 0x7fbd26ed3290>"
            ]
          },
          "metadata": {
            "tags": []
          },
          "execution_count": 68
        },
        {
          "output_type": "display_data",
          "data": {
            "image/png": "[encoded data removed]",
            "text/plain": [
              "<Figure size 360x360 with 1 Axes>"
            ]
          },
          "metadata": {
            "tags": []
          }
        }
      ]
    },
    {
      "cell_type": "code",
      "metadata": {
        "colab": {
          "base_uri": "https://localhost:8080/",
          "height": 382
        },
        "id": "vIXQtGdW_OfJ",
        "outputId": "cb61c7f2-85e1-418c-af87-223edbd6314e"
      },
      "source": [
        "sns.displot(x= 'bmi',kind = 'kde', data = age_g45)"
      ],
      "execution_count": null,
      "outputs": [
        {
          "output_type": "execute_result",
          "data": {
            "text/plain": [
              "<seaborn.axisgrid.FacetGrid at 0x7fbd279ca710>"
            ]
          },
          "metadata": {
            "tags": []
          },
          "execution_count": 28
        },
        {
          "output_type": "display_data",
          "data": {
            "image/png": "[encoded data removed]",
            "text/plain": [
              "<Figure size 360x360 with 1 Axes>"
            ]
          },
          "metadata": {
            "tags": []
          }
        }
      ]
    },
    {
      "cell_type": "markdown",
      "metadata": {
        "id": "mviS4vBuMFwN"
      },
      "source": [
        "### Observation:\n",
        "\n",
        "From the above graphs, we can see that BMI increases as age increases but then after 55 years of age, we tend to see a slow decrease in BMI.\n"
      ]
    },
    {
      "cell_type": "code",
      "metadata": {
        "id": "ABYUUM5pHLNg"
      },
      "source": [
        "# Calculate the sample size, mean, and variance of each sample.\n",
        "\n",
        "sample_1_n = age_l45.shape[0]\n",
        "sample_2_n = age_g45.shape[0]\n",
        "sample_1_mean = age_l45['bmi'].mean()\n",
        "sample_2_mean = age_g45['bmi'].mean()\n",
        "sample_1_var = age_l45['bmi'].var()\n",
        "sample_2_var = age_g45['bmi'].var()"
      ],
      "execution_count": null,
      "outputs": []
    },
    {
      "cell_type": "code",
      "metadata": {
        "colab": {
          "base_uri": "https://localhost:8080/"
        },
        "id": "TcS7xqHbn_th",
        "outputId": "d02ee3b8-88bf-4911-93e6-a9520c0d7fab"
      },
      "source": [
        "print(\"The mean BMI of people with age <45 is: \", sample_1_mean )\n",
        "print(\"The mean BMI of people with age >45 is: \",sample_2_mean) "
      ],
      "execution_count": null,
      "outputs": [
        {
          "output_type": "stream",
          "text": [
            "The mean BMI of people with age <45 is:  27.07631915876864\n",
            "The mean BMI of people with age >45 is:  30.68094703502861\n"
          ],
          "name": "stdout"
        }
      ]
    },
    {
      "cell_type": "code",
      "metadata": {
        "colab": {
          "base_uri": "https://localhost:8080/"
        },
        "id": "H98FpHoEIV6g",
        "outputId": "5d76e24e-71be-4554-9d9a-7980460e1520"
      },
      "source": [
        "# Calculate the standard error and compute the confidence intervals.\n",
        "\n",
        "import math\n",
        "std_err_difference = math.sqrt((sample_1_var/sample_1_n)+(sample_2_var/sample_2_n))\n",
        "\n",
        "mean_difference = sample_2_mean - sample_1_mean\n",
        "\n",
        "margin_of_error = 1.96 * std_err_difference\n",
        "ci_lower = mean_difference - margin_of_error\n",
        "ci_upper = mean_difference + margin_of_error\n",
        "\n",
        "print(\"The difference in means of BMI by Age at the 95% confidence interval is between \"+str(ci_lower)+\" and \"+str(ci_upper)+\".\")"
      ],
      "execution_count": null,
      "outputs": [
        {
          "output_type": "stream",
          "text": [
            "The difference in means of BMI by Age at the 95% confidence interval is between 3.193335945469622 and 4.015919807050315.\n"
          ],
          "name": "stdout"
        }
      ]
    },
    {
      "cell_type": "markdown",
      "metadata": {
        "id": "F9zXizyAJxCm"
      },
      "source": [
        "### Hypotheses 2:"
      ]
    },
    {
      "cell_type": "markdown",
      "metadata": {
        "id": "6tbQnspU_2OX"
      },
      "source": [
        "In this t-test, we are examining the difference between two population means based on their respective samples. More specifically, we will check for a statistically significant difference between the two groups.\n",
        "\n",
        "The null and alternative hypotheses are as follows:\n",
        "\n",
        "H₀: µ₁ = µ₂\n",
        "( The mean BMI for individuals with glucose levels greater than 90 is equal to the mean BMI for those less than 90.)\n",
        "\n",
        "Hₐ: µ₁ ≠ µ₂\n",
        "(The mean BMI for individuals with glucose levels greater than 90 is not equal to the mean BMI for those less than 90.)\n",
        "\n",
        "Where µ₁ is the sample mean of the first group, and µ₂ is the sample mean of the second group."
      ]
    },
    {
      "cell_type": "code",
      "metadata": {
        "colab": {
          "base_uri": "https://localhost:8080/"
        },
        "id": "dQFiSZHqKDRz",
        "outputId": "884e6854-193f-41a1-9bb2-e18e1e882389"
      },
      "source": [
        "GL_g90 = stroke_df[(stroke_df['avg_glucose_level'] >= 90).values]\n",
        "GL_g90.info()"
      ],
      "execution_count": null,
      "outputs": [
        {
          "output_type": "stream",
          "text": [
            "<class 'pandas.core.frame.DataFrame'>\n",
            "Int64Index: 2707 entries, 0 to 5108\n",
            "Data columns (total 12 columns):\n",
            " #   Column             Non-Null Count  Dtype  \n",
            "---  ------             --------------  -----  \n",
            " 0   id                 2707 non-null   int64  \n",
            " 1   gender             2707 non-null   object \n",
            " 2   age                2707 non-null   float64\n",
            " 3   hypertension       2707 non-null   int64  \n",
            " 4   heart_disease      2707 non-null   int64  \n",
            " 5   ever_married       2707 non-null   object \n",
            " 6   work_type          2707 non-null   object \n",
            " 7   Residence_type     2707 non-null   object \n",
            " 8   avg_glucose_level  2707 non-null   float64\n",
            " 9   bmi                2707 non-null   float64\n",
            " 10  smoking_status     2707 non-null   object \n",
            " 11  stroke             2707 non-null   int64  \n",
            "dtypes: float64(3), int64(4), object(5)\n",
            "memory usage: 274.9+ KB\n"
          ],
          "name": "stdout"
        }
      ]
    },
    {
      "cell_type": "code",
      "metadata": {
        "colab": {
          "base_uri": "https://localhost:8080/"
        },
        "id": "M2MLSnYVLrOm",
        "outputId": "cd724502-2af9-4469-d0f5-4e387a4d0003"
      },
      "source": [
        "GL_l90 = stroke_df[(stroke_df['avg_glucose_level'] < 90).values]\n",
        "GL_l90.info()"
      ],
      "execution_count": null,
      "outputs": [
        {
          "output_type": "stream",
          "text": [
            "<class 'pandas.core.frame.DataFrame'>\n",
            "Int64Index: 2402 entries, 6 to 5109\n",
            "Data columns (total 12 columns):\n",
            " #   Column             Non-Null Count  Dtype  \n",
            "---  ------             --------------  -----  \n",
            " 0   id                 2402 non-null   int64  \n",
            " 1   gender             2402 non-null   object \n",
            " 2   age                2402 non-null   float64\n",
            " 3   hypertension       2402 non-null   int64  \n",
            " 4   heart_disease      2402 non-null   int64  \n",
            " 5   ever_married       2402 non-null   object \n",
            " 6   work_type          2402 non-null   object \n",
            " 7   Residence_type     2402 non-null   object \n",
            " 8   avg_glucose_level  2402 non-null   float64\n",
            " 9   bmi                2402 non-null   float64\n",
            " 10  smoking_status     2402 non-null   object \n",
            " 11  stroke             2402 non-null   int64  \n",
            "dtypes: float64(3), int64(4), object(5)\n",
            "memory usage: 244.0+ KB\n"
          ],
          "name": "stdout"
        }
      ]
    },
    {
      "cell_type": "markdown",
      "metadata": {
        "id": "dL33qpwhMq3o"
      },
      "source": [
        "A t-test will be conducted to check for significance"
      ]
    },
    {
      "cell_type": "code",
      "metadata": {
        "colab": {
          "base_uri": "https://localhost:8080/"
        },
        "id": "TtNhtSNSMprj",
        "outputId": "f6323b9c-32ce-4309-ab8a-e93ff766ba73"
      },
      "source": [
        "stats.ttest_ind(GL_g90['bmi'], GL_l90['bmi'])"
      ],
      "execution_count": null,
      "outputs": [
        {
          "output_type": "execute_result",
          "data": {
            "text/plain": [
              "Ttest_indResult(statistic=3.957264885407921, pvalue=7.68416578422278e-05)"
            ]
          },
          "metadata": {
            "tags": []
          },
          "execution_count": 34
        }
      ]
    },
    {
      "cell_type": "markdown",
      "metadata": {
        "id": "4nFnv94mNunr"
      },
      "source": [
        "The p-value is extremely small, implying that this is a real difference. Hence concluding that there is a significance between Avg.Glucose level and BMI."
      ]
    },
    {
      "cell_type": "code",
      "metadata": {
        "colab": {
          "base_uri": "https://localhost:8080/",
          "height": 382
        },
        "id": "FhKSgZaEVcCd",
        "outputId": "e152a43c-7176-4dd2-81d8-3570d148cbed"
      },
      "source": [
        "sns.displot(x='bmi', kde= 'hist', data = stroke_df)"
      ],
      "execution_count": null,
      "outputs": [
        {
          "output_type": "execute_result",
          "data": {
            "text/plain": [
              "<seaborn.axisgrid.FacetGrid at 0x7fbd27979150>"
            ]
          },
          "metadata": {
            "tags": []
          },
          "execution_count": 35
        },
        {
          "output_type": "display_data",
          "data": {
            "image/png": "[encoded data removed]",
            "text/plain": [
              "<Figure size 360x360 with 1 Axes>"
            ]
          },
          "metadata": {
            "tags": []
          }
        }
      ]
    },
    {
      "cell_type": "code",
      "metadata": {
        "colab": {
          "base_uri": "https://localhost:8080/"
        },
        "id": "ihLeM73aYtLr",
        "outputId": "8ab16820-27f3-4398-dccd-9506eaa95ee5"
      },
      "source": [
        "print( \"The mean BMI is {}\". format(stroke_df.bmi.mean()))"
      ],
      "execution_count": null,
      "outputs": [
        {
          "output_type": "stream",
          "text": [
            "The mean BMI is 28.894507852666084\n"
          ],
          "name": "stdout"
        }
      ]
    },
    {
      "cell_type": "markdown",
      "metadata": {
        "id": "LecuDUEgYg6i"
      },
      "source": [
        "### Observation:\n",
        "\n",
        "The distribution of BMI is fairly normal but we can see that there is massive tail causing the distribution to be right skewed. But there are only 5 values with a BMI greater than 65 meaning that its not going to affect the mean(28.8) that much\n",
        "\n"
      ]
    },
    {
      "cell_type": "code",
      "metadata": {
        "colab": {
          "base_uri": "https://localhost:8080/",
          "height": 285
        },
        "id": "li-NY7HiDZBH",
        "outputId": "44071043-3e6a-49ce-e6bb-46502debc2c8"
      },
      "source": [
        "sns.kdeplot(data = GL_g90, x = \"bmi\", shade = None, label = \"Glucose Level > 90\")\n",
        "sns.kdeplot(data = GL_l90, x = \"bmi\", shade = None, label = \"Glucose Level < 90\")\n",
        "plt.legend()\n",
        "plt.show()"
      ],
      "execution_count": null,
      "outputs": [
        {
          "output_type": "display_data",
          "data": {
            "image/png": "[encoded data removed]",
            "text/plain": [
              "<Figure size 432x288 with 1 Axes>"
            ]
          },
          "metadata": {
            "tags": []
          }
        }
      ]
    },
    {
      "cell_type": "markdown",
      "metadata": {
        "id": "Mxk1UN3uPpzz"
      },
      "source": [
        "### Observation :\n",
        "\n",
        "As the Glucose level increases, so does the BMI.\n",
        "\n"
      ]
    },
    {
      "cell_type": "code",
      "metadata": {
        "colab": {
          "base_uri": "https://localhost:8080/"
        },
        "id": "xCvQjZ20hJkF",
        "outputId": "da928e2a-4b7e-475b-a3b8-c182e37d3673"
      },
      "source": [
        "# Defining 95% confidence interval function\n",
        "def get_95_ci(array_1, array_2):\n",
        "    sample_1_n = array_1.shape[0]\n",
        "    sample_2_n = array_2.shape[0]\n",
        "    sample_1_mean = array_1.mean()\n",
        "    sample_2_mean = array_2.mean()\n",
        "    sample_1_var = array_1.var()\n",
        "    sample_2_var = array_2.var()\n",
        "    mean_difference = sample_2_mean - sample_1_mean\n",
        "\n",
        "    import math\n",
        "    std_err_difference = math.sqrt((sample_1_var/sample_1_n)+(sample_2_var/sample_2_n))\n",
        "    margin_of_error = 1.96 * std_err_difference\n",
        "    ci_lower = mean_difference - margin_of_error\n",
        "    ci_upper = mean_difference + margin_of_error\n",
        "    return(\"The difference in means at the 95% confidence interval (two-tail) is between \"+str(ci_lower)+\" and \"+str(ci_upper)+\".\")\n",
        "\n",
        "# Plugging in Hypothesis 2 sample populations and t-test\n",
        "ci_bmi = get_95_ci(GL_l90['bmi'], GL_g90['bmi'])\n",
        "print('BMI and Avg. Glucose Level: ' + ci_bmi)"
      ],
      "execution_count": null,
      "outputs": [
        {
          "output_type": "stream",
          "text": [
            "BMI and Avg. Glucose Level: The difference in means at the 95% confidence interval (two-tail) is between 0.42962859133140385 and 1.2757911700858355.\n"
          ],
          "name": "stdout"
        }
      ]
    },
    {
      "cell_type": "markdown",
      "metadata": {
        "id": "D7FqjhblNxsd"
      },
      "source": [
        "### Hypotheses 3:"
      ]
    },
    {
      "cell_type": "markdown",
      "metadata": {
        "id": "fQxkg1oB4Yk8"
      },
      "source": [
        "## Statistical Analysis on Categorical Features\n",
        "Hypothesis definition\n",
        "\n",
        "Null hypothesis, H₀ : Hypertension and Stroke are independent.\n",
        "\n",
        "Alternative hypothesis, Hₐ : Hypertension and Stroke are dependent\n",
        "\n",
        "Significance level, α is generally set to 0.05.\n",
        "\n",
        "•\tp-value ≤ α : significant result, reject null hypothesis.\n",
        "\n",
        "•\tp-value > α : not significant result, fail to reject null hypothesis.\n",
        "\n",
        "•\tTo analyze whether there is a significant association between two categorical features, Pearson's chi-squared test analysis is commonly used.\n"
      ]
    },
    {
      "cell_type": "markdown",
      "metadata": {
        "id": "mZk7lfvLN4cr"
      },
      "source": [
        "We will be conducting a Chi-squared test between hypertension and stroke"
      ]
    },
    {
      "cell_type": "code",
      "metadata": {
        "colab": {
          "base_uri": "https://localhost:8080/"
        },
        "id": "OQqu3sFb-kjx",
        "outputId": "930a6d88-7efd-473e-987c-fb8697d91883"
      },
      "source": [
        "dataset_table_ht=pd.crosstab(stroke_df.hypertension, stroke_df.stroke)\n",
        "print(dataset_table_ht)"
      ],
      "execution_count": null,
      "outputs": [
        {
          "output_type": "stream",
          "text": [
            "stroke           0    1\n",
            "hypertension           \n",
            "0             4428  183\n",
            "1              432   66\n"
          ],
          "name": "stdout"
        }
      ]
    },
    {
      "cell_type": "code",
      "metadata": {
        "colab": {
          "base_uri": "https://localhost:8080/"
        },
        "id": "1cIsTfzv_Mun",
        "outputId": "c7c333bf-d39d-4bdd-f907-586cae4f89a2"
      },
      "source": [
        "from scipy.stats import chi2_contingency \n",
        "from scipy.stats import chi2\n",
        "value_ht = stats.chi2_contingency(dataset_table_ht)\n",
        "value_ht"
      ],
      "execution_count": null,
      "outputs": [
        {
          "output_type": "execute_result",
          "data": {
            "text/plain": [
              "(81.57314462043591,\n",
              " 1.688936253410575e-19,\n",
              " 1,\n",
              " array([[4386.27128597,  224.72871403],\n",
              "        [ 473.72871403,   24.27128597]]))"
            ]
          },
          "metadata": {
            "tags": []
          },
          "execution_count": 40
        }
      ]
    },
    {
      "cell_type": "code",
      "metadata": {
        "colab": {
          "base_uri": "https://localhost:8080/"
        },
        "id": "jfT2k-GuF5rg",
        "outputId": "74ad6a1b-f7ed-49cb-b12a-2c685bc1bf3c"
      },
      "source": [
        "print(\"The chi-statistic is: \", value_ht[0])\n",
        "print(\"The p-vlaue is: \", value_ht[1])\n",
        "print(\"The degrees of freedom is: \", value_ht[2])"
      ],
      "execution_count": null,
      "outputs": [
        {
          "output_type": "stream",
          "text": [
            "The chi-statistic is:  81.57314462043591\n",
            "The p-vlaue is:  1.688936253410575e-19\n",
            "The degrees of freedom is:  1\n"
          ],
          "name": "stdout"
        }
      ]
    },
    {
      "cell_type": "code",
      "metadata": {
        "colab": {
          "base_uri": "https://localhost:8080/",
          "height": 302
        },
        "id": "yoMXKCWxBObA",
        "outputId": "43edc133-24eb-4525-b349-bafd0f5773d0"
      },
      "source": [
        "sns.barplot(x = 'hypertension', y='stroke', data =  stroke_df)"
      ],
      "execution_count": null,
      "outputs": [
        {
          "output_type": "execute_result",
          "data": {
            "text/plain": [
              "<matplotlib.axes._subplots.AxesSubplot at 0x7fbd277819d0>"
            ]
          },
          "metadata": {
            "tags": []
          },
          "execution_count": 42
        },
        {
          "output_type": "display_data",
          "data": {
            "image/png": "[encoded data removed]",
            "text/plain": [
              "<Figure size 432x288 with 1 Axes>"
            ]
          },
          "metadata": {
            "tags": []
          }
        }
      ]
    },
    {
      "cell_type": "markdown",
      "metadata": {
        "id": "dJsFBmTrBQvo"
      },
      "source": [
        "### Observation:\n",
        "\n",
        "Hypertension can increase your risk of stroke"
      ]
    },
    {
      "cell_type": "code",
      "metadata": {
        "colab": {
          "base_uri": "https://localhost:8080/",
          "height": 284
        },
        "id": "DjcFAKQlC0bh",
        "outputId": "b2659544-adae-452c-8e94-2163a48e75cc"
      },
      "source": [
        "from statsmodels.graphics.mosaicplot import mosaic\n",
        "mosaic(stroke_df, ['hypertension','stroke'], gap=0.01,\n",
        "       properties={'edgecolor':'white'}, title = \"Hypertension Vs. Stroke\")\n",
        "plt.show()"
      ],
      "execution_count": null,
      "outputs": [
        {
          "output_type": "display_data",
          "data": {
            "image/png": "[encoded data removed]",
            "text/plain": [
              "<Figure size 432x288 with 3 Axes>"
            ]
          },
          "metadata": {
            "tags": []
          }
        }
      ]
    },
    {
      "cell_type": "markdown",
      "metadata": {
        "id": "5Qo9cgcnDLaf"
      },
      "source": [
        "People who do not have hypertension have very less chances of getting a stroke."
      ]
    },
    {
      "cell_type": "code",
      "metadata": {
        "colab": {
          "base_uri": "https://localhost:8080/"
        },
        "id": "i8Z_p47oQarr",
        "outputId": "90f1bb89-f519-42d2-f8e2-7e484a919d74"
      },
      "source": [
        "alpha = 0.05\n",
        "prob = 1 - alpha\n",
        "critical_value_ht = chi2.ppf(prob, value_ht[2])\n",
        "print(\"The critical value is: \", critical_value_ht)"
      ],
      "execution_count": null,
      "outputs": [
        {
          "output_type": "stream",
          "text": [
            "The critical value is:  3.841458820694124\n"
          ],
          "name": "stdout"
        }
      ]
    },
    {
      "cell_type": "code",
      "metadata": {
        "colab": {
          "base_uri": "https://localhost:8080/"
        },
        "id": "mzwPoqFXRcfh",
        "outputId": "fc9ba656-8140-4d77-8a7b-0a0fd03f72d7"
      },
      "source": [
        " if value_ht[0]> critical_value_ht:\n",
        "    print(\"Reject H0,There is a relationship between 2 categorical variables\")\n",
        "else:\n",
        "    print(\"Retain H0,There is no relationship between 2 categorical variables\")\n",
        "\n",
        " if value_ht[1]<=alpha:\n",
        "    print(\"Reject H0,There is a relationship between 2 categorical variables\")\n",
        "else:\n",
        "    print(\"Retain H0,There is no relationship between 2 categorical variables\")"
      ],
      "execution_count": null,
      "outputs": [
        {
          "output_type": "stream",
          "text": [
            "Reject H0,There is a relationship between 2 categorical variables\n",
            "Reject H0,There is a relationship between 2 categorical variables\n"
          ],
          "name": "stdout"
        }
      ]
    },
    {
      "cell_type": "markdown",
      "metadata": {
        "id": "Nn6NCqr6Rg9h"
      },
      "source": [
        "Considering that the statistics value is greater than the critical value and the small p-value, we can conclude that there is a significant relationship between hypertension and stroke."
      ]
    },
    {
      "cell_type": "markdown",
      "metadata": {
        "id": "7mI7elEr8MkD"
      },
      "source": [
        "# Hypotheses 4:"
      ]
    },
    {
      "cell_type": "markdown",
      "metadata": {
        "id": "SkLMIIbjB6fa"
      },
      "source": [
        "Null hypothesis, H₀ : Heartdisease and Stroke are independent.\n",
        "\n",
        "Alternative hypothesis, Hₐ : Heartdisease and Stroke are dependent\n",
        "\n",
        "Significance level, α is generally set to 0.05.\n",
        "\n",
        "•\tp-value ≤ α : significant result, reject null hypothesis.\n",
        "\n",
        "•\tp-value > α : not significant result, fail to reject null hypothesis.\n",
        "\n",
        "•\tTo analyze whether there is a significant association between two categorical features, Pearson's chi-squared test analysis is commonly used.\n"
      ]
    },
    {
      "cell_type": "markdown",
      "metadata": {
        "id": "M9QmZ41F8QGg"
      },
      "source": [
        "We will be conducting a Chi-squared test between heart disease and stroke"
      ]
    },
    {
      "cell_type": "code",
      "metadata": {
        "colab": {
          "base_uri": "https://localhost:8080/"
        },
        "id": "skV7BXXW8Tz2",
        "outputId": "adaa21dd-8da8-44d9-ebe5-7411b0409bea"
      },
      "source": [
        "dataset_table_hd=pd.crosstab(stroke_df['heart_disease'],stroke_df['stroke'])\n",
        "print(dataset_table_hd)"
      ],
      "execution_count": null,
      "outputs": [
        {
          "output_type": "stream",
          "text": [
            "stroke            0    1\n",
            "heart_disease           \n",
            "0              4631  202\n",
            "1               229   47\n"
          ],
          "name": "stdout"
        }
      ]
    },
    {
      "cell_type": "code",
      "metadata": {
        "colab": {
          "base_uri": "https://localhost:8080/"
        },
        "id": "42G4JOsI8vW7",
        "outputId": "fffd3180-8262-4228-d916-a9e80f2d429c"
      },
      "source": [
        "value_hd = stats.chi2_contingency(dataset_table_hd)\n",
        "value_hd"
      ],
      "execution_count": null,
      "outputs": [
        {
          "output_type": "execute_result",
          "data": {
            "text/plain": [
              "(90.22943664078221,\n",
              " 2.120831133146208e-21,\n",
              " 1,\n",
              " array([[4597.45155608,  235.54844392],\n",
              "        [ 262.54844392,   13.45155608]]))"
            ]
          },
          "metadata": {
            "tags": []
          },
          "execution_count": 56
        }
      ]
    },
    {
      "cell_type": "code",
      "metadata": {
        "colab": {
          "base_uri": "https://localhost:8080/"
        },
        "id": "Ao6nKK4mR1Mt",
        "outputId": "91424dac-f306-4e49-d6da-5ceb1c484cf0"
      },
      "source": [
        "print(\"The chi-statistic is: \", value_hd[0])\n",
        "print(\"The p-vlaue is: \", value_hd[1])\n",
        "print(\"The degrees of freedom is: \", value_hd[2])"
      ],
      "execution_count": null,
      "outputs": [
        {
          "output_type": "stream",
          "text": [
            "The chi-statistic is:  90.22943664078221\n",
            "The p-vlaue is:  2.120831133146208e-21\n",
            "The degrees of freedom is:  1\n"
          ],
          "name": "stdout"
        }
      ]
    },
    {
      "cell_type": "code",
      "metadata": {
        "colab": {
          "base_uri": "https://localhost:8080/",
          "height": 302
        },
        "id": "-bTdKNU9AglF",
        "outputId": "7cb29a58-3346-46b1-d30c-4a6ee63ad583"
      },
      "source": [
        "sns.barplot(x = 'heart_disease', y='stroke', data =  stroke_df)"
      ],
      "execution_count": null,
      "outputs": [
        {
          "output_type": "execute_result",
          "data": {
            "text/plain": [
              "<matplotlib.axes._subplots.AxesSubplot at 0x7fbd274b18d0>"
            ]
          },
          "metadata": {
            "tags": []
          },
          "execution_count": 58
        },
        {
          "output_type": "display_data",
          "data": {
            "image/png": "[encoded data removed]",
            "text/plain": [
              "<Figure size 432x288 with 1 Axes>"
            ]
          },
          "metadata": {
            "tags": []
          }
        }
      ]
    },
    {
      "cell_type": "markdown",
      "metadata": {
        "id": "WWOKo6lDBAkc"
      },
      "source": [
        "### Observation\n",
        "\n",
        "Heart disease can increase your risk of stroke"
      ]
    },
    {
      "cell_type": "code",
      "metadata": {
        "colab": {
          "base_uri": "https://localhost:8080/",
          "height": 284
        },
        "id": "JMwIr8y4H_kU",
        "outputId": "cc1a5a19-97e6-4ad6-cd7f-d507b4d71625"
      },
      "source": [
        "mosaic(stroke_df, ['heart_disease','stroke'], gap=0.01,\n",
        "       properties={'edgecolor':'white'},title = \"Heardisease Vs. Stroke\")\n",
        "plt.show()"
      ],
      "execution_count": null,
      "outputs": [
        {
          "output_type": "display_data",
          "data": {
            "image/png": "[encoded data removed]",
            "text/plain": [
              "<Figure size 432x288 with 3 Axes>"
            ]
          },
          "metadata": {
            "tags": []
          }
        }
      ]
    },
    {
      "cell_type": "markdown",
      "metadata": {
        "id": "KpmMsav7IG6F"
      },
      "source": [
        "People who do not have heartdisease have very less chances of getting a stroke."
      ]
    },
    {
      "cell_type": "code",
      "metadata": {
        "colab": {
          "base_uri": "https://localhost:8080/"
        },
        "id": "TwmV7kYAAuPc",
        "outputId": "bdb61310-c801-472f-ec59-f9e1a8d48fd5"
      },
      "source": [
        "alpha = 0.05\n",
        "prob = 1- alpha\n",
        "critical_value_hd= chi2.ppf(prob, value_ht[2])\n",
        "print(\"The critical value is: \", critical_value_hd)"
      ],
      "execution_count": null,
      "outputs": [
        {
          "output_type": "stream",
          "text": [
            "The critical value is:  3.841458820694124\n"
          ],
          "name": "stdout"
        }
      ]
    },
    {
      "cell_type": "code",
      "metadata": {
        "colab": {
          "base_uri": "https://localhost:8080/"
        },
        "id": "ndG_VKjP-wv8",
        "outputId": "81482510-fdab-4dbe-f689-750ea79fe663"
      },
      "source": [
        " if value_hd[0]> critical_value_hd:\n",
        "    print(\"Reject H0,There is a relationship between 2 categorical variables\")\n",
        "else:\n",
        "    print(\"Retain H0,There is no relationship between 2 categorical variables\")\n",
        "\n",
        " if value_hd[1]<=alpha:\n",
        "    print(\"Reject H0,There is a relationship between 2 categorical variables\")\n",
        "else:\n",
        "    print(\"Retain H0,There is no relationship between 2 categorical variables\")"
      ],
      "execution_count": null,
      "outputs": [
        {
          "output_type": "stream",
          "text": [
            "Reject H0,There is a relationship between 2 categorical variables\n",
            "Reject H0,There is a relationship between 2 categorical variables\n"
          ],
          "name": "stdout"
        }
      ]
    },
    {
      "cell_type": "markdown",
      "metadata": {
        "id": "YlqA7D6LBWfn"
      },
      "source": [
        "Considering that the statistics value is greater than the critical value and the small p-value, we can conclude that there is a significant relationship between heartdisease and stroke."
      ]
    },
    {
      "cell_type": "markdown",
      "metadata": {
        "id": "7fw13C1eFuKP"
      },
      "source": [
        "# Results "
      ]
    },
    {
      "cell_type": "markdown",
      "metadata": {
        "id": "my1Lw-NcGWc9"
      },
      "source": [
        "There is a significant difference in BMI when comparing people who are above 45 years of age and below 45 years of age.\n",
        "\n",
        "There is a significant difference in BMI when comparing people who have a higher avg.glucose level than people who have a lower glucose level.\n",
        "\n",
        "We also found out there is a significant difference between stroke and hypertension/ heart disease."
      ]
    },
    {
      "cell_type": "markdown",
      "metadata": {
        "id": "Cf3EbwWMIZem"
      },
      "source": [
        "# What can be done to prevent stroke?"
      ]
    },
    {
      "cell_type": "markdown",
      "metadata": {
        "id": "vyh-cx1bSySx"
      },
      "source": [
        "Some of the risk factors for Stroke that we have seen are:\n",
        "\n",
        "1.   Hypertension\n",
        "2.   Heart condition\n",
        "3.   Obesity\n",
        "4.   Diabetes\n",
        "\n",
        "\n",
        "The reality is that 80% of strokes are preventable.  You can prevent stroke by making healthy life style choices. \n",
        "\n",
        "\n",
        "\n",
        "*   Physical activity and exercises can help you stay at a healthy weight and lower your cholesterol and blood pressure levels. \n",
        "*   Choose a healthy diet.\n",
        "*   No Smoking\n",
        "*   Treating diabetes can delay the onset of complications that increase the risk of stroke.\n",
        "*   Finally, follow your doctors recommendations carefully.\n",
        "\n",
        "\n",
        "\n",
        "\n",
        "\n",
        "\n",
        "\n",
        "\n",
        "\n",
        "\n",
        " \n"
      ]
    }
  ]
}